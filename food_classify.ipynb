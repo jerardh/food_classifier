{
 "cells": [
  {
   "cell_type": "code",
   "execution_count": 58,
   "id": "9cd7fe50-7106-41a3-8504-ffad34698d2a",
   "metadata": {},
   "outputs": [],
   "source": [
    "import pandas as pd\n",
    "import os\n",
    "import tensorflow as tf\n",
    "from sklearn.model_selection import train_test_split\n",
    "from tensorflow.keras.models import Sequential\n",
    "from tensorflow.keras.layers import Conv2D, MaxPooling2D, Flatten, Dense\n",
    "from sklearn.preprocessing import LabelEncoder"
   ]
  },
  {
   "cell_type": "code",
   "execution_count": 60,
   "id": "cb4b42ee-ffaa-4a23-a07c-a849d1ce98ca",
   "metadata": {},
   "outputs": [],
   "source": [
    "#creating data part"
   ]
  },
  {
   "cell_type": "code",
   "execution_count": 62,
   "id": "43387da0-a23d-4d78-8f36-c0f3ac3feaff",
   "metadata": {},
   "outputs": [
    {
     "name": "stdout",
     "output_type": "stream",
     "text": [
      "C:\\Users\\jerar\\OneDrive\\Desktop\\food_classify\\images\n"
     ]
    }
   ],
   "source": [
    "images=[]\n",
    "globalpath='C:\\\\Users\\\\jerar\\\\OneDrive\\\\Desktop\\\\food_classify\\\\images\\\\'\n",
    "os.chdir(globalpath)\n",
    "print(os.getcwd())\n",
    "labels=os.listdir()#list of all foodnames since food name is the directory name\n"
   ]
  },
  {
   "cell_type": "code",
   "execution_count": 64,
   "id": "39f6c59d-3ed1-46dc-b71d-a10af70cb80f",
   "metadata": {},
   "outputs": [],
   "source": [
    "### creating a data frame consisiting of following fields imagepath,label\n",
    "###"
   ]
  },
  {
   "cell_type": "code",
   "execution_count": 66,
   "id": "907d2d58-91f3-4796-b910-7c6bffcc2253",
   "metadata": {},
   "outputs": [
    {
     "data": {
      "text/html": [
       "<div>\n",
       "<style scoped>\n",
       "    .dataframe tbody tr th:only-of-type {\n",
       "        vertical-align: middle;\n",
       "    }\n",
       "\n",
       "    .dataframe tbody tr th {\n",
       "        vertical-align: top;\n",
       "    }\n",
       "\n",
       "    .dataframe thead th {\n",
       "        text-align: right;\n",
       "    }\n",
       "</style>\n",
       "<table border=\"1\" class=\"dataframe\">\n",
       "  <thead>\n",
       "    <tr style=\"text-align: right;\">\n",
       "      <th></th>\n",
       "      <th>image</th>\n",
       "      <th>label</th>\n",
       "    </tr>\n",
       "  </thead>\n",
       "  <tbody>\n",
       "    <tr>\n",
       "      <th>0</th>\n",
       "      <td>C:\\Users\\jerar\\OneDrive\\Desktop\\food_classify\\...</td>\n",
       "      <td>Biryani</td>\n",
       "    </tr>\n",
       "    <tr>\n",
       "      <th>1</th>\n",
       "      <td>C:\\Users\\jerar\\OneDrive\\Desktop\\food_classify\\...</td>\n",
       "      <td>Biryani</td>\n",
       "    </tr>\n",
       "    <tr>\n",
       "      <th>2</th>\n",
       "      <td>C:\\Users\\jerar\\OneDrive\\Desktop\\food_classify\\...</td>\n",
       "      <td>Biryani</td>\n",
       "    </tr>\n",
       "    <tr>\n",
       "      <th>3</th>\n",
       "      <td>C:\\Users\\jerar\\OneDrive\\Desktop\\food_classify\\...</td>\n",
       "      <td>Biryani</td>\n",
       "    </tr>\n",
       "    <tr>\n",
       "      <th>4</th>\n",
       "      <td>C:\\Users\\jerar\\OneDrive\\Desktop\\food_classify\\...</td>\n",
       "      <td>Biryani</td>\n",
       "    </tr>\n",
       "  </tbody>\n",
       "</table>\n",
       "</div>"
      ],
      "text/plain": [
       "                                               image    label\n",
       "0  C:\\Users\\jerar\\OneDrive\\Desktop\\food_classify\\...  Biryani\n",
       "1  C:\\Users\\jerar\\OneDrive\\Desktop\\food_classify\\...  Biryani\n",
       "2  C:\\Users\\jerar\\OneDrive\\Desktop\\food_classify\\...  Biryani\n",
       "3  C:\\Users\\jerar\\OneDrive\\Desktop\\food_classify\\...  Biryani\n",
       "4  C:\\Users\\jerar\\OneDrive\\Desktop\\food_classify\\...  Biryani"
      ]
     },
     "execution_count": 66,
     "metadata": {},
     "output_type": "execute_result"
    }
   ],
   "source": [
    "data={\"image\":[],\n",
    "    \"label\":[]\n",
    "}\n",
    "for label in labels:\n",
    "    os.chdir(globalpath)\n",
    "    path=os.getcwd()+\"\\\\\"+label\n",
    "    os.chdir(path)\n",
    "    imagelist=os.listdir()\n",
    "    labellist=[]\n",
    "    for i in range(0,len(imagelist)):\n",
    "        imagelist[i]=path+\"\\\\\"+imagelist[i]\n",
    "        labellist.append(label)\n",
    "    data[\"image\"].extend(imagelist)\n",
    "    data[\"label\"].extend(labellist)\n",
    "\n",
    "\n",
    "'''\n",
    "data[\"label\"]=list(encoded_labels)'''\n",
    "#load data into a DataFrame object:\n",
    "df = pd.DataFrame(data)\n",
    "df.head()\n"
   ]
  },
  {
   "cell_type": "code",
   "execution_count": 76,
   "id": "0db52a1c-ee26-4693-849b-081356d4832b",
   "metadata": {},
   "outputs": [
    {
     "name": "stdout",
     "output_type": "stream",
     "text": [
      "                                               image label\n",
      "0  C:\\Users\\jerar\\OneDrive\\Desktop\\food_classify\\...     0\n",
      "1  C:\\Users\\jerar\\OneDrive\\Desktop\\food_classify\\...     0\n",
      "2  C:\\Users\\jerar\\OneDrive\\Desktop\\food_classify\\...     0\n",
      "3  C:\\Users\\jerar\\OneDrive\\Desktop\\food_classify\\...     0\n",
      "4  C:\\Users\\jerar\\OneDrive\\Desktop\\food_classify\\...     0\n"
     ]
    }
   ],
   "source": [
    "#encoding labels\n",
    "encoder=LabelEncoder()\n",
    "encoded_labels= encoder.fit_transform(df.iloc[:,1])\n",
    "df.iloc[:,1]=encoded_labels\n",
    "print(df.head())"
   ]
  },
  {
   "cell_type": "code",
   "execution_count": 70,
   "id": "d88ce5c0-4ad5-43bf-96c0-93528b0acb21",
   "metadata": {},
   "outputs": [],
   "source": [
    "### creating tensors from dictionary using tf.data.Dataset.from_tensor_slices(tensors)\n",
    "### tensors should be 1D arrays\n",
    "###"
   ]
  },
  {
   "cell_type": "code",
   "execution_count": 140,
   "id": "235c6df5-6d3f-4d3e-a8ac-94b796c9cdd8",
   "metadata": {},
   "outputs": [],
   "source": [
    "images=df.iloc[:,0:1].values #using 0:1 since even though there is single column , X should be 2d and y should be 1D\n",
    "labels=df.iloc[:,1].values\n",
    "X_train, X_test, y_train, y_test=train_test_split(images, labels, test_size=0.2)"
   ]
  },
  {
   "cell_type": "code",
   "execution_count": 142,
   "id": "e15f5f23-1472-4480-a033-43ff72ae7690",
   "metadata": {},
   "outputs": [],
   "source": [
    "def preprocess(imagepath, label):\n",
    "    file = tf.io.read_file(imagepath)  # Read image file\n",
    "    image = tf.image.decode_jpeg(file, channels=3)  # Decode JPEG file into an image\n",
    "    image = tf.image.resize(image, [128, 128])  # Resize to 128x128\n",
    "    image = image / 255.0  # Normalize to [0, 1]\n",
    "    return image, label"
   ]
  },
  {
   "cell_type": "code",
   "execution_count": 168,
   "id": "1f104d41-f00a-426b-a2f3-fdb111fdf2dd",
   "metadata": {},
   "outputs": [],
   "source": [
    "train_data=tf.data.Dataset.from_tensor_slices((list(X_train[:,0]), list(y_train))).map(preprocess)\n",
    "test_data= tf.data.Dataset.from_tensor_slices((list(X_test[:,0]), list(y_test))).map(preprocess)"
   ]
  },
  {
   "cell_type": "code",
   "execution_count": 158,
   "id": "e4014bfb-ce6f-4e9f-85e2-481287e0a756",
   "metadata": {},
   "outputs": [],
   "source": [
    "from tensorflow.keras.models import Sequential\n",
    "from tensorflow.keras.layers import Conv2D, MaxPooling2D, Flatten, Dense\n",
    "\n",
    "model = Sequential([\n",
    "    Conv2D(32, kernel_size=(3, 3), activation='relu', input_shape=(128, 128, 3)),\n",
    "    MaxPooling2D(2, 2),\n",
    "    Conv2D(64, kernel_size=(3, 3), activation='relu'),\n",
    "    MaxPooling2D(2, 2),\n",
    "    Flatten(),\n",
    "    Dense(64, activation='relu'),\n",
    "    Dense(2, activation='softmax')  # for 2-class classification\n",
    "])\n"
   ]
  },
  {
   "cell_type": "code",
   "execution_count": 160,
   "id": "bf122b9e-eb4d-4356-992c-2b4684586198",
   "metadata": {},
   "outputs": [
    {
     "name": "stdout",
     "output_type": "stream",
     "text": [
      "Epoch 1/7\n",
      "14/14 [==============================] - 4s 179ms/step - loss: 1.1155 - accuracy: 0.5608\n",
      "Epoch 2/7\n",
      "14/14 [==============================] - 2s 150ms/step - loss: 0.5399 - accuracy: 0.7703\n",
      "Epoch 3/7\n",
      "14/14 [==============================] - 2s 151ms/step - loss: 0.3499 - accuracy: 0.8514\n",
      "Epoch 4/7\n",
      "14/14 [==============================] - 2s 138ms/step - loss: 0.2641 - accuracy: 0.8716\n",
      "Epoch 5/7\n",
      "14/14 [==============================] - 2s 140ms/step - loss: 0.1531 - accuracy: 0.9392\n",
      "Epoch 6/7\n",
      "14/14 [==============================] - 2s 134ms/step - loss: 0.1996 - accuracy: 0.9099\n",
      "Epoch 7/7\n",
      "14/14 [==============================] - 2s 130ms/step - loss: 0.2872 - accuracy: 0.8851\n"
     ]
    },
    {
     "data": {
      "text/plain": [
       "<keras.callbacks.History at 0x206c7a1d9a0>"
      ]
     },
     "execution_count": 160,
     "metadata": {},
     "output_type": "execute_result"
    }
   ],
   "source": [
    "model.compile(\n",
    "    optimizer='adam',\n",
    "    loss='sparse_categorical_crossentropy',  #  'categorical_crossentropy' if labels are one-hot encoded\n",
    "    metrics=['accuracy']\n",
    ")\n",
    "batch_size = 32\n",
    "train_dataset = train_data.batch(batch_size)\n",
    "model.fit(train_dataset, epochs=7)"
   ]
  },
  {
   "cell_type": "code",
   "execution_count": null,
   "id": "ddfc9384-920c-46f6-8520-389d8d4266df",
   "metadata": {},
   "outputs": [],
   "source": [
    "print(type(train_data)) # should be (num_samples, 128, 128, 3)\n"
   ]
  },
  {
   "cell_type": "code",
   "execution_count": 170,
   "id": "5a910250-02c8-4eda-ad07-56137fd81550",
   "metadata": {},
   "outputs": [
    {
     "name": "stdout",
     "output_type": "stream",
     "text": [
      "4/4 [==============================] - 1s 60ms/step - loss: 0.5003 - accuracy: 0.7658\n",
      "Test loss: 0.5002889633178711\n",
      "Test accuracy: 0.7657657861709595\n"
     ]
    }
   ],
   "source": [
    "test_data = test_data.batch(batch_size)\n",
    "loss, accuracy = model.evaluate(test_data)\n",
    "print(f\"Test loss: {loss}\")\n",
    "print(f\"Test accuracy: {accuracy}\")"
   ]
  },
  {
   "cell_type": "code",
   "execution_count": null,
   "id": "0362a3a8-60d0-48b8-acd5-d13d71f9c311",
   "metadata": {},
   "outputs": [],
   "source": []
  }
 ],
 "metadata": {
  "kernelspec": {
   "display_name": "Python [conda env:foodclassify]",
   "language": "python",
   "name": "conda-env-foodclassify-py"
  },
  "language_info": {
   "codemirror_mode": {
    "name": "ipython",
    "version": 3
   },
   "file_extension": ".py",
   "mimetype": "text/x-python",
   "name": "python",
   "nbconvert_exporter": "python",
   "pygments_lexer": "ipython3",
   "version": "3.9.18"
  }
 },
 "nbformat": 4,
 "nbformat_minor": 5
}
