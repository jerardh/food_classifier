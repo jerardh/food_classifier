{
 "cells": [
  {
   "cell_type": "code",
   "execution_count": 64,
   "id": "9cd7fe50-7106-41a3-8504-ffad34698d2a",
   "metadata": {},
   "outputs": [],
   "source": [
    "import pandas as pd\n",
    "import os\n",
    "import tensorflow as tf\n",
    "from sklearn.model_selection import train_test_split\n",
    "from tensorflow.keras.models import Sequential\n",
    "from tensorflow.keras.layers import Conv2D, MaxPooling2D, Flatten, Dense, Dropout, BatchNormalization\n",
    "from sklearn.preprocessing import LabelEncoder"
   ]
  },
  {
   "cell_type": "code",
   "execution_count": 65,
   "id": "43387da0-a23d-4d78-8f36-c0f3ac3feaff",
   "metadata": {},
   "outputs": [
    {
     "name": "stdout",
     "output_type": "stream",
     "text": [
      "C:\\Users\\jerar\\OneDrive\\Desktop\\food_classify\\train\\Train\n",
      "['Baked_Potato', 'Burger', 'Crispy_Chicken', 'Donut', 'Fries', 'Hot_Dog', 'Pizza', 'Sandwich', 'Taco', 'Taquito']\n",
      "10\n"
     ]
    }
   ],
   "source": [
    "images=[]\n",
    "globalpath='C:\\\\Users\\\\jerar\\\\OneDrive\\\\Desktop\\\\food_classify\\\\train\\\\Train'\n",
    "os.chdir(globalpath)\n",
    "print(os.getcwd())\n",
    "labels=os.listdir()#list of all foodnames since food name is the directory name\n",
    "print(labels)\n",
    "class_len=len(labels)\n",
    "print(class_len)"
   ]
  },
  {
   "cell_type": "code",
   "execution_count": 66,
   "id": "907d2d58-91f3-4796-b910-7c6bffcc2253",
   "metadata": {},
   "outputs": [
    {
     "name": "stdout",
     "output_type": "stream",
     "text": [
      "                                               image         label\n",
      "0  C:\\Users\\jerar\\OneDrive\\Desktop\\food_classify\\...  Baked_Potato\n",
      "1  C:\\Users\\jerar\\OneDrive\\Desktop\\food_classify\\...  Baked_Potato\n",
      "2  C:\\Users\\jerar\\OneDrive\\Desktop\\food_classify\\...  Baked_Potato\n",
      "3  C:\\Users\\jerar\\OneDrive\\Desktop\\food_classify\\...  Baked_Potato\n",
      "4  C:\\Users\\jerar\\OneDrive\\Desktop\\food_classify\\...  Baked_Potato\n"
     ]
    }
   ],
   "source": [
    "data={\"image\":[],\n",
    "    \"label\":[]\n",
    "}\n",
    "for label in labels:\n",
    "    os.chdir(globalpath)\n",
    "    path=os.getcwd()+\"\\\\\"+label\n",
    "    os.chdir(path)\n",
    "    imagelist=os.listdir()\n",
    "    labellist=[]\n",
    "    for i in range(0,len(imagelist)):\n",
    "        imagelist[i]=path+\"\\\\\"+imagelist[i]\n",
    "        labellist.append(label)\n",
    "    data[\"image\"].extend(imagelist)\n",
    "    data[\"label\"].extend(labellist)\n",
    "\n",
    "\n",
    "'''\n",
    "data[\"label\"]=list(encoded_labels)'''\n",
    "#load data into a DataFrame object:\n",
    "df = pd.DataFrame(data)\n",
    "print(df.head())\n"
   ]
  },
  {
   "cell_type": "code",
   "execution_count": 67,
   "id": "0db52a1c-ee26-4693-849b-081356d4832b",
   "metadata": {},
   "outputs": [
    {
     "name": "stdout",
     "output_type": "stream",
     "text": [
      "                                               image label\n",
      "0  C:\\Users\\jerar\\OneDrive\\Desktop\\food_classify\\...     0\n",
      "1  C:\\Users\\jerar\\OneDrive\\Desktop\\food_classify\\...     0\n",
      "2  C:\\Users\\jerar\\OneDrive\\Desktop\\food_classify\\...     0\n",
      "3  C:\\Users\\jerar\\OneDrive\\Desktop\\food_classify\\...     0\n",
      "4  C:\\Users\\jerar\\OneDrive\\Desktop\\food_classify\\...     0\n"
     ]
    }
   ],
   "source": [
    "#encoding labels\n",
    "encoder = LabelEncoder()\n",
    "encoded_labels= encoder.fit_transform(df.iloc[:,1])\n",
    "df.iloc[:,1]=encoded_labels\n",
    "print(df.head())\n"
   ]
  },
  {
   "cell_type": "code",
   "execution_count": 68,
   "id": "d88ce5c0-4ad5-43bf-96c0-93528b0acb21",
   "metadata": {},
   "outputs": [],
   "source": [
    "### creating tensors from dictionary using tf.data.Dataset.from_tensor_slices(tensors)\n",
    "### tensors should be 1D arrays\n",
    "###"
   ]
  },
  {
   "cell_type": "code",
   "execution_count": 69,
   "id": "235c6df5-6d3f-4d3e-a8ac-94b796c9cdd8",
   "metadata": {},
   "outputs": [],
   "source": [
    "images=df.iloc[:,0:1].values #using 0:1 since even though there is single column , X should be 2d and y should be 1D\n",
    "labels=df.iloc[:,1].values\n",
    "X_train, X_test, y_train, y_test=train_test_split(images, labels, test_size=0.05)"
   ]
  },
  {
   "cell_type": "code",
   "execution_count": 70,
   "id": "e15f5f23-1472-4480-a033-43ff72ae7690",
   "metadata": {},
   "outputs": [],
   "source": [
    "def preprocess(imagepath, label):\n",
    "        file = tf.io.read_file(imagepath)  # Read image file\n",
    "        image = tf.image.decode_jpeg(file, channels=3)  # Decode JPEG file into an image\n",
    "        image = tf.image.resize(image, [128, 128])  # Resize to 128x128\n",
    "        image = image / 255.0  # Normalize to [0, 1]\n",
    "        image = tf.image.random_flip_left_right(image) # random flipping\n",
    "        image = tf.image.random_brightness(image, max_delta=0.1) # random change in brightness\n",
    "        image = tf.image.random_contrast(image, lower=0.8, upper=1.2) # random change in contrast\n",
    "        return image, label"
   ]
  },
  {
   "cell_type": "code",
   "execution_count": 71,
   "id": "1f104d41-f00a-426b-a2f3-fdb111fdf2dd",
   "metadata": {},
   "outputs": [],
   "source": [
    "train_data=tf.data.Dataset.from_tensor_slices((list(X_train[:,0]), list(y_train))).map(preprocess)\n",
    "test_data= tf.data.Dataset.from_tensor_slices((list(X_test[:,0]), list(y_test))).map(preprocess)"
   ]
  },
  {
   "cell_type": "code",
   "execution_count": 72,
   "id": "e4014bfb-ce6f-4e9f-85e2-481287e0a756",
   "metadata": {},
   "outputs": [],
   "source": [
    "from tensorflow.keras.models import Sequential\n",
    "from tensorflow.keras.layers import Conv2D, MaxPooling2D, Flatten, Dense\n",
    "\n",
    "from tensorflow.keras.models import Sequential\n",
    "from tensorflow.keras.layers import Conv2D, MaxPooling2D, Flatten, Dense, Dropout, BatchNormalization\n",
    "\n",
    "model = Sequential([\n",
    "    Conv2D(32, (3, 3), activation='relu', input_shape=(128, 128, 3)),\n",
    "    BatchNormalization(),\n",
    "    MaxPooling2D(2, 2),\n",
    "\n",
    "    Conv2D(64, (3, 3), activation='relu'),\n",
    "    BatchNormalization(),\n",
    "    MaxPooling2D(2, 2),\n",
    "\n",
    "    Conv2D(128, (3, 3), activation='relu'),\n",
    "    BatchNormalization(),\n",
    "    MaxPooling2D(2, 2),\n",
    "\n",
    "    Conv2D(256, (3, 3), activation='relu'),\n",
    "    BatchNormalization(),\n",
    "    MaxPooling2D(2, 2),\n",
    "\n",
    "    Flatten(),\n",
    "    Dense(256, activation='relu'),   # Increased from 128 to 256\n",
    "    Dropout(0.5),                    # Added Dropout to prevent overfitting\n",
    "    Dense(class_len, activation='softmax')\n",
    "])\n"
   ]
  },
  {
   "cell_type": "code",
   "execution_count": 73,
   "id": "bf122b9e-eb4d-4356-992c-2b4684586198",
   "metadata": {},
   "outputs": [
    {
     "name": "stdout",
     "output_type": "stream",
     "text": [
      "Epoch 1/25\n",
      "439/439 [==============================] - 99s 224ms/step - loss: 2.4643 - accuracy: 0.1511\n",
      "Epoch 2/25\n",
      "439/439 [==============================] - 100s 227ms/step - loss: 2.2092 - accuracy: 0.1802\n",
      "Epoch 3/25\n",
      "439/439 [==============================] - 99s 225ms/step - loss: 2.1180 - accuracy: 0.2218\n",
      "Epoch 4/25\n",
      "439/439 [==============================] - 98s 223ms/step - loss: 2.0621 - accuracy: 0.2475\n",
      "Epoch 5/25\n",
      "439/439 [==============================] - 99s 226ms/step - loss: 1.9850 - accuracy: 0.2738\n",
      "Epoch 6/25\n",
      "439/439 [==============================] - 100s 228ms/step - loss: 1.9554 - accuracy: 0.2910\n",
      "Epoch 7/25\n",
      "439/439 [==============================] - 100s 229ms/step - loss: 1.8944 - accuracy: 0.3176\n",
      "Epoch 8/25\n",
      "439/439 [==============================] - 101s 230ms/step - loss: 1.8090 - accuracy: 0.3564\n",
      "Epoch 9/25\n",
      "439/439 [==============================] - 100s 228ms/step - loss: 1.7372 - accuracy: 0.3923\n",
      "Epoch 10/25\n",
      "439/439 [==============================] - 99s 226ms/step - loss: 1.6604 - accuracy: 0.4178\n",
      "Epoch 11/25\n",
      "439/439 [==============================] - 100s 227ms/step - loss: 1.5860 - accuracy: 0.4482\n",
      "Epoch 12/25\n",
      "439/439 [==============================] - 100s 228ms/step - loss: 1.5001 - accuracy: 0.4814\n",
      "Epoch 13/25\n",
      "439/439 [==============================] - 100s 228ms/step - loss: 1.4112 - accuracy: 0.5195\n",
      "Epoch 14/25\n",
      "439/439 [==============================] - 97s 221ms/step - loss: 1.3264 - accuracy: 0.5490\n",
      "Epoch 15/25\n",
      "439/439 [==============================] - 95s 217ms/step - loss: 1.2502 - accuracy: 0.5815\n",
      "Epoch 16/25\n",
      "439/439 [==============================] - 95s 216ms/step - loss: 1.1713 - accuracy: 0.6134\n",
      "Epoch 17/25\n",
      "439/439 [==============================] - 101s 231ms/step - loss: 1.0915 - accuracy: 0.6310\n",
      "Epoch 18/25\n",
      "439/439 [==============================] - 99s 225ms/step - loss: 1.0394 - accuracy: 0.6550\n",
      "Epoch 19/25\n",
      "439/439 [==============================] - 102s 231ms/step - loss: 0.9681 - accuracy: 0.6793\n",
      "Epoch 20/25\n",
      "439/439 [==============================] - 103s 235ms/step - loss: 0.9101 - accuracy: 0.7045\n",
      "Epoch 21/25\n",
      "439/439 [==============================] - 104s 236ms/step - loss: 0.8473 - accuracy: 0.7213\n",
      "Epoch 22/25\n",
      "439/439 [==============================] - 103s 236ms/step - loss: 0.7889 - accuracy: 0.7407\n",
      "Epoch 23/25\n",
      "439/439 [==============================] - 103s 236ms/step - loss: 0.7560 - accuracy: 0.7509\n",
      "Epoch 24/25\n",
      "439/439 [==============================] - 103s 234ms/step - loss: 0.7150 - accuracy: 0.7629\n",
      "Epoch 25/25\n",
      "439/439 [==============================] - 103s 235ms/step - loss: 0.6515 - accuracy: 0.7809\n"
     ]
    },
    {
     "data": {
      "text/plain": [
       "<keras.callbacks.History at 0x17b672df5b0>"
      ]
     },
     "execution_count": 73,
     "metadata": {},
     "output_type": "execute_result"
    }
   ],
   "source": [
    "model.compile(\n",
    "    optimizer='adam',\n",
    "    loss='sparse_categorical_crossentropy',  #  'categorical_crossentropy' if labels are one-hot encoded\n",
    "    metrics=['accuracy']\n",
    ")\n",
    "batch_size = 32\n",
    "train_dataset = train_data.batch(batch_size)\n",
    "model.fit(train_dataset, epochs=25)"
   ]
  },
  {
   "cell_type": "code",
   "execution_count": 74,
   "id": "ddfc9384-920c-46f6-8520-389d8d4266df",
   "metadata": {},
   "outputs": [
    {
     "name": "stdout",
     "output_type": "stream",
     "text": [
      "<class 'tensorflow.python.data.ops.dataset_ops.BatchDataset'>\n"
     ]
    }
   ],
   "source": [
    "print(type(train_dataset)) # should be (num_samples, 128, 128, 3)\n"
   ]
  },
  {
   "cell_type": "code",
   "execution_count": 75,
   "id": "5a910250-02c8-4eda-ad07-56137fd81550",
   "metadata": {},
   "outputs": [
    {
     "name": "stdout",
     "output_type": "stream",
     "text": [
      "24/24 [==============================] - 3s 87ms/step - loss: 1.6301 - accuracy: 0.6184\n",
      "Test loss: 1.6300982236862183\n",
      "Test accuracy: 0.6184032559394836\n"
     ]
    }
   ],
   "source": [
    "test_data = test_data.batch(batch_size)\n",
    "loss, accuracy = model.evaluate(test_data)\n",
    "print(f\"Test loss: {loss}\")\n",
    "print(f\"Test accuracy: {accuracy}\")"
   ]
  },
  {
   "cell_type": "code",
   "execution_count": 76,
   "id": "0362a3a8-60d0-48b8-acd5-d13d71f9c311",
   "metadata": {},
   "outputs": [
    {
     "name": "stdout",
     "output_type": "stream",
     "text": [
      "10\n"
     ]
    }
   ],
   "source": [
    "print(class_len)"
   ]
  },
  {
   "cell_type": "code",
   "execution_count": null,
   "id": "f545bb7a-acd0-4eea-8ae1-ab9a9e3a115e",
   "metadata": {},
   "outputs": [],
   "source": []
  },
  {
   "cell_type": "code",
   "execution_count": null,
   "id": "5c7a6505-fa05-4ccd-a012-d7cfb120cf1b",
   "metadata": {},
   "outputs": [],
   "source": []
  }
 ],
 "metadata": {
  "kernelspec": {
   "display_name": "Python [conda env:foodclassify]",
   "language": "python",
   "name": "conda-env-foodclassify-py"
  },
  "language_info": {
   "codemirror_mode": {
    "name": "ipython",
    "version": 3
   },
   "file_extension": ".py",
   "mimetype": "text/x-python",
   "name": "python",
   "nbconvert_exporter": "python",
   "pygments_lexer": "ipython3",
   "version": "3.9.18"
  }
 },
 "nbformat": 4,
 "nbformat_minor": 5
}
