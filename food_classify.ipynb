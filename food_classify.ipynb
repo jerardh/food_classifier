{
 "cells": [
  {
   "cell_type": "code",
   "execution_count": 97,
   "id": "9cd7fe50-7106-41a3-8504-ffad34698d2a",
   "metadata": {},
   "outputs": [],
   "source": [
    "import pandas as pd\n",
    "import os\n",
    "import tensorflow as tf\n",
    "from sklearn.model_selection import train_test_split\n",
    "from tensorflow.keras.models import Sequential\n",
    "from tensorflow.keras.layers import Conv2D, MaxPooling2D, Flatten, Dense\n",
    "from sklearn.preprocessing import LabelEncoder"
   ]
  },
  {
   "cell_type": "code",
   "execution_count": 98,
   "id": "cb4b42ee-ffaa-4a23-a07c-a849d1ce98ca",
   "metadata": {},
   "outputs": [],
   "source": [
    "#creating data part"
   ]
  },
  {
   "cell_type": "code",
   "execution_count": 99,
   "id": "43387da0-a23d-4d78-8f36-c0f3ac3feaff",
   "metadata": {},
   "outputs": [
    {
     "name": "stdout",
     "output_type": "stream",
     "text": [
      "C:\\Users\\jerar\\OneDrive\\Desktop\\food_classify\\images\n",
      "['Biryani', 'Chole-Bhature', 'Dabeli', 'Dal', 'Dhokla', 'Dosa', 'Jalebi', 'Kathi', 'Kofta', 'Naan', 'Pakora', 'Paneer-Tikka', 'Pani-Puri', 'Pav-Bhaji', 'Vadapav']\n"
     ]
    }
   ],
   "source": [
    "images=[]\n",
    "globalpath='C:\\\\Users\\\\jerar\\\\OneDrive\\\\Desktop\\\\food_classify\\\\images\\\\'\n",
    "os.chdir(globalpath)\n",
    "print(os.getcwd())\n",
    "labels=os.listdir()#list of all foodnames since food name is the directory name\n",
    "print(labels)"
   ]
  },
  {
   "cell_type": "code",
   "execution_count": 100,
   "id": "39f6c59d-3ed1-46dc-b71d-a10af70cb80f",
   "metadata": {},
   "outputs": [],
   "source": [
    "### creating a data frame consisiting of following fields imagepath,label\n",
    "###"
   ]
  },
  {
   "cell_type": "code",
   "execution_count": 101,
   "id": "907d2d58-91f3-4796-b910-7c6bffcc2253",
   "metadata": {},
   "outputs": [
    {
     "data": {
      "text/html": [
       "<div>\n",
       "<style scoped>\n",
       "    .dataframe tbody tr th:only-of-type {\n",
       "        vertical-align: middle;\n",
       "    }\n",
       "\n",
       "    .dataframe tbody tr th {\n",
       "        vertical-align: top;\n",
       "    }\n",
       "\n",
       "    .dataframe thead th {\n",
       "        text-align: right;\n",
       "    }\n",
       "</style>\n",
       "<table border=\"1\" class=\"dataframe\">\n",
       "  <thead>\n",
       "    <tr style=\"text-align: right;\">\n",
       "      <th></th>\n",
       "      <th>image</th>\n",
       "      <th>label</th>\n",
       "    </tr>\n",
       "  </thead>\n",
       "  <tbody>\n",
       "    <tr>\n",
       "      <th>0</th>\n",
       "      <td>C:\\Users\\jerar\\OneDrive\\Desktop\\food_classify\\...</td>\n",
       "      <td>Biryani</td>\n",
       "    </tr>\n",
       "    <tr>\n",
       "      <th>1</th>\n",
       "      <td>C:\\Users\\jerar\\OneDrive\\Desktop\\food_classify\\...</td>\n",
       "      <td>Biryani</td>\n",
       "    </tr>\n",
       "    <tr>\n",
       "      <th>2</th>\n",
       "      <td>C:\\Users\\jerar\\OneDrive\\Desktop\\food_classify\\...</td>\n",
       "      <td>Biryani</td>\n",
       "    </tr>\n",
       "    <tr>\n",
       "      <th>3</th>\n",
       "      <td>C:\\Users\\jerar\\OneDrive\\Desktop\\food_classify\\...</td>\n",
       "      <td>Biryani</td>\n",
       "    </tr>\n",
       "    <tr>\n",
       "      <th>4</th>\n",
       "      <td>C:\\Users\\jerar\\OneDrive\\Desktop\\food_classify\\...</td>\n",
       "      <td>Biryani</td>\n",
       "    </tr>\n",
       "  </tbody>\n",
       "</table>\n",
       "</div>"
      ],
      "text/plain": [
       "                                               image    label\n",
       "0  C:\\Users\\jerar\\OneDrive\\Desktop\\food_classify\\...  Biryani\n",
       "1  C:\\Users\\jerar\\OneDrive\\Desktop\\food_classify\\...  Biryani\n",
       "2  C:\\Users\\jerar\\OneDrive\\Desktop\\food_classify\\...  Biryani\n",
       "3  C:\\Users\\jerar\\OneDrive\\Desktop\\food_classify\\...  Biryani\n",
       "4  C:\\Users\\jerar\\OneDrive\\Desktop\\food_classify\\...  Biryani"
      ]
     },
     "execution_count": 101,
     "metadata": {},
     "output_type": "execute_result"
    }
   ],
   "source": [
    "data={\"image\":[],\n",
    "    \"label\":[]\n",
    "}\n",
    "for label in labels:\n",
    "    os.chdir(globalpath)\n",
    "    path=os.getcwd()+\"\\\\\"+label\n",
    "    os.chdir(path)\n",
    "    imagelist=os.listdir()\n",
    "    labellist=[]\n",
    "    for i in range(0,len(imagelist)):\n",
    "        imagelist[i]=path+\"\\\\\"+imagelist[i]\n",
    "        labellist.append(label)\n",
    "    data[\"image\"].extend(imagelist)\n",
    "    data[\"label\"].extend(labellist)\n",
    "\n",
    "\n",
    "'''\n",
    "data[\"label\"]=list(encoded_labels)'''\n",
    "#load data into a DataFrame object:\n",
    "df = pd.DataFrame(data)\n",
    "df.head()\n"
   ]
  },
  {
   "cell_type": "code",
   "execution_count": 102,
   "id": "0db52a1c-ee26-4693-849b-081356d4832b",
   "metadata": {},
   "outputs": [
    {
     "name": "stdout",
     "output_type": "stream",
     "text": [
      "                                               image label\n",
      "0  C:\\Users\\jerar\\OneDrive\\Desktop\\food_classify\\...     0\n",
      "1  C:\\Users\\jerar\\OneDrive\\Desktop\\food_classify\\...     0\n",
      "2  C:\\Users\\jerar\\OneDrive\\Desktop\\food_classify\\...     0\n",
      "3  C:\\Users\\jerar\\OneDrive\\Desktop\\food_classify\\...     0\n",
      "4  C:\\Users\\jerar\\OneDrive\\Desktop\\food_classify\\...     0\n"
     ]
    }
   ],
   "source": [
    "#encoding labels\n",
    "encoder=LabelEncoder()\n",
    "encoded_labels= encoder.fit_transform(df.iloc[:,1])\n",
    "df.iloc[:,1]=encoded_labels\n",
    "print(df.head())"
   ]
  },
  {
   "cell_type": "code",
   "execution_count": 103,
   "id": "d88ce5c0-4ad5-43bf-96c0-93528b0acb21",
   "metadata": {},
   "outputs": [],
   "source": [
    "### creating tensors from dictionary using tf.data.Dataset.from_tensor_slices(tensors)\n",
    "### tensors should be 1D arrays\n",
    "###"
   ]
  },
  {
   "cell_type": "code",
   "execution_count": 104,
   "id": "235c6df5-6d3f-4d3e-a8ac-94b796c9cdd8",
   "metadata": {},
   "outputs": [],
   "source": [
    "images=df.iloc[:,0:1].values #using 0:1 since even though there is single column , X should be 2d and y should be 1D\n",
    "labels=df.iloc[:,1].values\n",
    "X_train, X_test, y_train, y_test=train_test_split(images, labels, test_size=0.2)"
   ]
  },
  {
   "cell_type": "code",
   "execution_count": 105,
   "id": "e15f5f23-1472-4480-a033-43ff72ae7690",
   "metadata": {},
   "outputs": [],
   "source": [
    "def preprocess(imagepath, label):\n",
    "    file = tf.io.read_file(imagepath)  # Read image file\n",
    "    image = tf.image.decode_jpeg(file, channels=3)  # Decode JPEG file into an image\n",
    "    image = tf.image.resize(image, [128, 128])  # Resize to 128x128\n",
    "    image = image / 255.0  # Normalize to [0, 1]\n",
    "    return image, label"
   ]
  },
  {
   "cell_type": "code",
   "execution_count": 106,
   "id": "1f104d41-f00a-426b-a2f3-fdb111fdf2dd",
   "metadata": {},
   "outputs": [],
   "source": [
    "train_data=tf.data.Dataset.from_tensor_slices((list(X_train[:,0]), list(y_train))).map(preprocess)\n",
    "test_data= tf.data.Dataset.from_tensor_slices((list(X_test[:,0]), list(y_test))).map(preprocess)"
   ]
  },
  {
   "cell_type": "code",
   "execution_count": 107,
   "id": "e4014bfb-ce6f-4e9f-85e2-481287e0a756",
   "metadata": {},
   "outputs": [],
   "source": [
    "from tensorflow.keras.models import Sequential\n",
    "from tensorflow.keras.layers import Conv2D, MaxPooling2D, Flatten, Dense\n",
    "\n",
    "model = Sequential([\n",
    "    Conv2D(32, kernel_size=(3, 3), activation='relu', input_shape=(128, 128, 3)),\n",
    "    MaxPooling2D(2, 2),\n",
    "    Conv2D(64, kernel_size=(3, 3), activation='relu'),\n",
    "    MaxPooling2D(2, 2),\n",
    "    Conv2D(64, kernel_size=(3, 3), activation='relu'),\n",
    "    MaxPooling2D(2, 2),\n",
    "    Flatten(),\n",
    "    Dense(64, activation='relu'),\n",
    "    Dense(15, activation='softmax')  # for 15-class classification\n",
    "])\n"
   ]
  },
  {
   "cell_type": "code",
   "execution_count": null,
   "id": "bf122b9e-eb4d-4356-992c-2b4684586198",
   "metadata": {},
   "outputs": [
    {
     "name": "stdout",
     "output_type": "stream",
     "text": [
      "Epoch 1/30\n",
      "120/120 [==============================] - 21s 163ms/step - loss: 2.4839 - accuracy: 0.1973\n",
      "Epoch 2/30\n",
      "120/120 [==============================] - 18s 152ms/step - loss: 2.1360 - accuracy: 0.3111\n",
      "Epoch 3/30\n",
      "120/120 [==============================] - 18s 148ms/step - loss: 1.8215 - accuracy: 0.4148\n",
      "Epoch 4/30\n",
      "120/120 [==============================] - 18s 150ms/step - loss: 1.4167 - accuracy: 0.5556\n",
      "Epoch 5/30\n",
      "120/120 [==============================] - 18s 148ms/step - loss: 1.0143 - accuracy: 0.6887\n",
      "Epoch 6/30\n",
      "120/120 [==============================] - 18s 149ms/step - loss: 0.7787 - accuracy: 0.7534\n",
      "Epoch 7/30\n",
      "120/120 [==============================] - 18s 148ms/step - loss: 0.5857 - accuracy: 0.8163\n",
      "Epoch 8/30\n",
      "120/120 [==============================] - 18s 151ms/step - loss: 0.3937 - accuracy: 0.8781\n",
      "Epoch 9/30\n",
      "120/120 [==============================] - 19s 155ms/step - loss: 0.2759 - accuracy: 0.9159\n",
      "Epoch 10/30\n",
      "120/120 [==============================] - 20s 162ms/step - loss: 0.2025 - accuracy: 0.9405\n",
      "Epoch 11/30\n",
      "120/120 [==============================] - 21s 171ms/step - loss: 0.1565 - accuracy: 0.9534\n",
      "Epoch 12/30\n",
      "120/120 [==============================] - 21s 172ms/step - loss: 0.1289 - accuracy: 0.9615\n",
      "Epoch 13/30\n",
      "120/120 [==============================] - 19s 160ms/step - loss: 0.1014 - accuracy: 0.9701\n",
      "Epoch 14/30\n",
      "120/120 [==============================] - 19s 158ms/step - loss: 0.0764 - accuracy: 0.9751\n",
      "Epoch 15/30\n",
      "120/120 [==============================] - 19s 161ms/step - loss: 0.0390 - accuracy: 0.9895\n",
      "Epoch 16/30\n",
      "120/120 [==============================] - 19s 158ms/step - loss: 0.0161 - accuracy: 0.9961\n",
      "Epoch 17/30\n",
      "120/120 [==============================] - 19s 161ms/step - loss: 0.0092 - accuracy: 0.9976\n",
      "Epoch 18/30\n",
      "120/120 [==============================] - 19s 161ms/step - loss: 0.0032 - accuracy: 0.9997\n",
      "Epoch 19/30\n",
      "120/120 [==============================] - 19s 160ms/step - loss: 7.7926e-04 - accuracy: 1.0000\n",
      "Epoch 20/30\n",
      "120/120 [==============================] - 19s 159ms/step - loss: 5.1645e-04 - accuracy: 1.0000\n",
      "Epoch 21/30\n",
      "120/120 [==============================] - 19s 160ms/step - loss: 4.1094e-04 - accuracy: 1.0000\n",
      "Epoch 22/30\n",
      "120/120 [==============================] - 19s 160ms/step - loss: 3.4080e-04 - accuracy: 1.0000\n",
      "Epoch 23/30\n",
      "120/120 [==============================] - 19s 160ms/step - loss: 2.8955e-04 - accuracy: 1.0000\n",
      "Epoch 24/30\n",
      "120/120 [==============================] - 19s 162ms/step - loss: 2.4981e-04 - accuracy: 1.0000\n",
      "Epoch 25/30\n",
      "120/120 [==============================] - 19s 161ms/step - loss: 2.1805e-04 - accuracy: 1.0000\n",
      "Epoch 26/30\n",
      "120/120 [==============================] - 19s 159ms/step - loss: 1.9206e-04 - accuracy: 1.0000\n",
      "Epoch 27/30\n",
      "120/120 [==============================] - 19s 159ms/step - loss: 1.7038e-04 - accuracy: 1.0000\n",
      "Epoch 28/30\n",
      "120/120 [==============================] - 19s 161ms/step - loss: 1.5221e-04 - accuracy: 1.0000\n",
      "Epoch 29/30\n",
      "118/120 [============================>.] - ETA: 0s - loss: 1.3692e-04 - accuracy: 1.0000"
     ]
    }
   ],
   "source": [
    "model.compile(\n",
    "    optimizer='adam',\n",
    "    loss='sparse_categorical_crossentropy',  #  'categorical_crossentropy' if labels are one-hot encoded\n",
    "    metrics=['accuracy']\n",
    ")\n",
    "batch_size = 32\n",
    "train_dataset = train_data.batch(batch_size)\n",
    "model.fit(train_dataset, epochs=30)"
   ]
  },
  {
   "cell_type": "code",
   "execution_count": null,
   "id": "ddfc9384-920c-46f6-8520-389d8d4266df",
   "metadata": {},
   "outputs": [],
   "source": [
    "print(type(train_data)) # should be (num_samples, 128, 128, 3)\n"
   ]
  },
  {
   "cell_type": "code",
   "execution_count": null,
   "id": "5a910250-02c8-4eda-ad07-56137fd81550",
   "metadata": {},
   "outputs": [],
   "source": [
    "test_data = test_data.batch(batch_size)\n",
    "loss, accuracy = model.evaluate(test_data)\n",
    "print(f\"Test loss: {loss}\")\n",
    "print(f\"Test accuracy: {accuracy}\")"
   ]
  },
  {
   "cell_type": "code",
   "execution_count": null,
   "id": "0362a3a8-60d0-48b8-acd5-d13d71f9c311",
   "metadata": {},
   "outputs": [],
   "source": []
  }
 ],
 "metadata": {
  "kernelspec": {
   "display_name": "Python [conda env:foodclassify]",
   "language": "python",
   "name": "conda-env-foodclassify-py"
  },
  "language_info": {
   "codemirror_mode": {
    "name": "ipython",
    "version": 3
   },
   "file_extension": ".py",
   "mimetype": "text/x-python",
   "name": "python",
   "nbconvert_exporter": "python",
   "pygments_lexer": "ipython3",
   "version": "3.9.18"
  }
 },
 "nbformat": 4,
 "nbformat_minor": 5
}
